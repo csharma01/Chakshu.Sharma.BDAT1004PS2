{
  "nbformat": 4,
  "nbformat_minor": 0,
  "metadata": {
    "colab": {
      "provenance": []
    },
    "kernelspec": {
      "name": "python3",
      "display_name": "Python 3"
    },
    "language_info": {
      "name": "python"
    }
  },
  "cells": [
    {
      "cell_type": "markdown",
      "source": [
        "# **DATA PROGRAMMING - PROBLEM SET 2**\n",
        "\n",
        "### **CHAKSHU SHARMA - 200557020**"
      ],
      "metadata": {
        "id": "srfLROk8EZgU"
      }
    },
    {
      "cell_type": "markdown",
      "source": [
        "## **Question 1**\n",
        "Consider the following Python module:\n",
        "```\n",
        "a = 0\n",
        "def b():\n",
        " global a\n",
        " a = c(a)\n",
        "def c(a):\n",
        " return a + 2\n",
        "\n",
        "```\n",
        "\n",
        "\n",
        "After importing the module into the interpreter, you execute:\n",
        "\n",
        "```\n",
        ">>> b()\n",
        ">>> b()\n",
        ">>> b()\n",
        ">>> a\n",
        "?\n",
        "```\n",
        "\n",
        "\n",
        "What value is displayed when the last expression (a) is evaluated? Explain your\n",
        "answer by indicating what happens in every executed statement"
      ],
      "metadata": {
        "id": "rOlvwBCMkXUW"
      }
    },
    {
      "cell_type": "markdown",
      "source": [
        "### **Ans.**\n",
        "First, when the module is imported, a is initialized to 0.\n",
        "\n",
        "The function b() is defined, which makes use of a global variable a and a function c(a).\n",
        "\n",
        "The function c(a) is also defined, which returns the value of its argument increased by 2.\n",
        "\n",
        "After importing the module and running b(), the global variable a is passed to the function c(a), which adds 2 to it and returns the result. This result is then assigned back to the global variable a. Initially, a is 0, so after the first call to b(), a becomes 0 + 2 = 2.\n",
        "\n",
        "When b() is called for the second time, the same process repeats. The current value of a (which is now 2) is passed to c(a), 2 is added to it, and the result (4) is assigned back to a.\n",
        "\n",
        "Finally, when b() is called for the third time, a is now 4, and the function c(a) adds 2 to it again. The result (6) is assigned back to a.\n",
        "\n",
        "So, after these three calls to b(), the value of a is 6.\n",
        "\n",
        "Therefore, the last expression a would be evaluated to 6."
      ],
      "metadata": {
        "id": "hdBbm2lklPJR"
      }
    },
    {
      "cell_type": "markdown",
      "source": [
        "## **Question 2**\n",
        "Function fileLength(), given to you, takes the name of a file as input and returns the length of the file:\n",
        "\n",
        "\n",
        "```\n",
        ">>> fileLength('midterm.py')\n",
        "284\n",
        ">>> fileLength('idterm.py')\n",
        "Traceback (most recent call last):\n",
        "File \"<pyshell#34>\", line 1, in <module>\n",
        " fileLength('idterm.py')\n",
        "File \"/Users/me/midterm.py\", line 3, in fileLength\n",
        " infile = open(filename)\n",
        "FileNotFoundError: [Errno 2] No such file or directory:\n",
        "'idterm.py'\n",
        "```\n",
        "\n",
        "As shown above, if the file cannot be found by the interpreter or if it cannot be read\n",
        "as a text file, an exception will be raised. Modify function fileLength() so that a\n",
        "friendly message is printed instead:\n",
        "\n",
        "\n",
        "```\n",
        "\n",
        ">>> fileLength('midterm.py')\n",
        "358\n",
        ">>> fileLength('idterm.py')\n",
        "File idterm.py not found.\n",
        "```"
      ],
      "metadata": {
        "id": "eZSBuTa3lz8E"
      }
    },
    {
      "cell_type": "code",
      "source": [
        "def fileLength(file_name):\n",
        "    try:\n",
        "        file = open(file_name)\n",
        "        contents = file.read()\n",
        "        file.close()\n",
        "        print(len(contents))\n",
        "    except FileNotFoundError:\n",
        "        print(\"File\", file_name, \"not found.\")\n",
        "fileLength('w3c.html')\n",
        "fileLength('idterm.py')\n"
      ],
      "metadata": {
        "colab": {
          "base_uri": "https://localhost:8080/"
        },
        "id": "MJjDK46NmAHR",
        "outputId": "802c032c-3c97-4df5-d940-a07859b96cc3"
      },
      "execution_count": 16,
      "outputs": [
        {
          "output_type": "stream",
          "name": "stdout",
          "text": [
            "396\n",
            "File idterm.py not found.\n"
          ]
        }
      ]
    },
    {
      "cell_type": "markdown",
      "source": [
        "## **Question 3**\n",
        "Write a class named Marsupial that can be used as shown below:\n",
        "\n",
        "```\n",
        ">>> m = Marsupial()\n",
        ">>> m.put_in_pouch('doll')\n",
        ">>> m.put_in_pouch('firetruck')\n",
        ">>> m.put_in_pouch('kitten')\n",
        ">>> m.pouch_contents()\n",
        "['doll', 'firetruck', 'kitten']\n",
        "```\n",
        "Now write a class named Kangaroo as a subclass of Marsupial that inherits all the\n",
        "attributes of Marsupial and also:\n",
        "\n",
        "a. extends the Marsupial __init__ constructor to take, as input, the\n",
        "coordinates x and y of the Kangaroo object,\n",
        "\n",
        "b. supports method jump that takes number values dx and dy as input and\n",
        "moves the kangaroo by dx units along the x-axis and by dy units along the y-axis, and\n",
        "\n",
        "c. overloads the __str__ operator so it behaves as shown below.\n",
        "\n",
        "\n",
        "```\n",
        ">>> k = Kangaroo(0,0)\n",
        ">>> print(k)\n",
        "I am a Kangaroo located at coordinates (0,0)\n",
        ">>> k.put_in_pouch('doll')\n",
        ">>> k.put_in_pouch('firetruck')\n",
        ">>> k.put_in_pouch('kitten')\n",
        ">>> k.pouch_contents()\n",
        "['doll', 'firetruck', 'kitten']\n",
        ">>> k.jump(1,0)\n",
        ">>> k.jump(1,0)\n",
        ">>> k.jump(1,0)\n",
        ">>> print(k)\n",
        "I am a Kangaroo located at coordinates (3,0)\n",
        "```\n",
        "\n"
      ],
      "metadata": {
        "id": "rrL3tcDqmlL_"
      }
    },
    {
      "cell_type": "code",
      "source": [
        "class Marsupial:\n",
        "    def __init__(self):\n",
        "        self.pouch = []\n",
        "\n",
        "    def put_in_pouch(self, item):\n",
        "        self.pouch.append(item)\n",
        "\n",
        "    def pouch_contents(self):\n",
        "        return self.pouch\n",
        "\n",
        "class Kangaroo(Marsupial):\n",
        "    def __init__(self, x, y):\n",
        "        super().__init__()\n",
        "        self.x = x\n",
        "        self.y = y\n",
        "\n",
        "    def jump(self, dx, dy):\n",
        "        self.x += dx\n",
        "        self.y += dy\n",
        "\n",
        "    def __str__(self):\n",
        "        return f\"I am a Kangaroo located at coordinates ({self.x},{self.y})\"\n",
        "\n",
        "# Testing the classes\n",
        "m = Marsupial()\n",
        "m.put_in_pouch('doll')\n",
        "m.put_in_pouch('firetruck')\n",
        "m.put_in_pouch('kitten')\n",
        "print(m.pouch_contents())\n",
        "\n",
        "k = Kangaroo(0, 0)\n",
        "print(k)\n",
        "k.put_in_pouch('doll')\n",
        "k.put_in_pouch('firetruck')\n",
        "k.put_in_pouch('kitten')\n",
        "print(k.pouch_contents())\n",
        "k.jump(1, 0)\n",
        "k.jump(1, 0)\n",
        "k.jump(1, 0)\n",
        "print(k)\n"
      ],
      "metadata": {
        "colab": {
          "base_uri": "https://localhost:8080/"
        },
        "id": "fqKsDj7wmgLy",
        "outputId": "0c350f6b-2dc8-4b97-cd36-87e0ecb86832"
      },
      "execution_count": 3,
      "outputs": [
        {
          "output_type": "stream",
          "name": "stdout",
          "text": [
            "['doll', 'firetruck', 'kitten']\n",
            "I am a Kangaroo located at coordinates (0,0)\n",
            "['doll', 'firetruck', 'kitten']\n",
            "I am a Kangaroo located at coordinates (3,0)\n"
          ]
        }
      ]
    },
    {
      "cell_type": "markdown",
      "source": [
        "## **Question 4**\n",
        "Write function collatz() that takes a positive integer x as input and prints the\n",
        "Collatz sequence starting at x. A Collatz sequence is obtained by repeatedly applying\n",
        "this rule to the previous number x in the sequence:\n",
        "x = {\n",
        "𝑥/2 𝑖𝑓 𝑥 𝑖𝑠 𝑒𝑣𝑒𝑛\n",
        "3𝑥 + 1 𝑖𝑓 𝑥 𝑖𝑠 𝑜𝑑𝑑 }\n",
        "Your function should stop when the sequence gets to number 1. Your\n",
        "implementation must be recursive, without any loops.\n",
        "\n",
        "\n",
        "```\n",
        ">>> collatz(1)\n",
        "1\n",
        ">>> collatz(10)\n",
        "10\n",
        "5\n",
        "16\n",
        "8\n",
        "4\n",
        "2\n",
        "1\n",
        "```\n",
        "\n"
      ],
      "metadata": {
        "id": "hJxqNI_kqF8r"
      }
    },
    {
      "cell_type": "code",
      "source": [
        "def collatz(x):\n",
        "    print(x)\n",
        "    if x == 1:\n",
        "        return\n",
        "    elif x % 2 == 0:\n",
        "        collatz(x // 2)\n",
        "    else:\n",
        "        collatz(3 * x + 1)\n",
        "\n",
        "\n",
        "# Testing the function\n",
        "collatz(1)\n",
        "print()\n",
        "collatz(10)\n"
      ],
      "metadata": {
        "colab": {
          "base_uri": "https://localhost:8080/"
        },
        "id": "dHbXVWjhp20G",
        "outputId": "1714fae8-597b-418e-9582-74de42609d32"
      },
      "execution_count": 4,
      "outputs": [
        {
          "output_type": "stream",
          "name": "stdout",
          "text": [
            "1\n",
            "\n",
            "10\n",
            "5\n",
            "16\n",
            "8\n",
            "4\n",
            "2\n",
            "1\n"
          ]
        }
      ]
    },
    {
      "cell_type": "markdown",
      "source": [
        "## **Question 5**\n",
        "Write a recursive method binary() that takes a non-negative\n",
        "integer n and prints the binary representation of integer n.\n",
        "\n",
        "\n",
        "```\n",
        ">>> binary(0)\n",
        "0\n",
        ">>> binary(1)\n",
        "1\n",
        ">>> binary(3)\n",
        "11\n",
        ">>> binary(9)\n",
        "1001\n",
        "```\n",
        "\n",
        "\n"
      ],
      "metadata": {
        "id": "j7r8enbzrEqx"
      }
    },
    {
      "cell_type": "code",
      "source": [
        "def binary(n):\n",
        "    if n == 0:\n",
        "        return\n",
        "    binary(n // 2)\n",
        "    print(n % 2, end='')\n",
        "\n",
        "\n",
        "# Testing the function\n",
        "binary(0)\n",
        "print()\n",
        "binary(1)\n",
        "print()\n",
        "binary(3)\n",
        "print()\n",
        "binary(9)\n"
      ],
      "metadata": {
        "colab": {
          "base_uri": "https://localhost:8080/"
        },
        "id": "2au4_a1pq4nD",
        "outputId": "6dd488da-1369-4413-f716-727b485be16c"
      },
      "execution_count": 5,
      "outputs": [
        {
          "output_type": "stream",
          "name": "stdout",
          "text": [
            "\n",
            "1\n",
            "11\n",
            "1001"
          ]
        }
      ]
    },
    {
      "cell_type": "markdown",
      "source": [
        "## **Question 6**\n",
        "Implement a class named HeadingParser that can be used to parse an HTML\n",
        "document, and retrieve and print all the headings in the document. You should\n",
        "implement your class as a subclass of HTMLParser, defined in Standard Library\n",
        "module html.parser. When fed a string containing HTML code, your class should\n",
        "print the headings, one per line and in the order in which they appear in the\n",
        "document. Each heading should be indented as follows: an h1 heading should have\n",
        "indentation 0, and h2 heading should have indentation 1, etc. Test your\n",
        "implementation using w3c.html.\n",
        "\n",
        "\n",
        "```\n",
        "\n",
        ">>> infile = open('w3c.html')\n",
        ">>> content = infile.read()\n",
        ">>> infile.close()\n",
        ">>> hp = HeadingParser()\n",
        ">>> hp.feed(content)\n",
        "W3C Mission\n",
        "Principles\n",
        "```\n"
      ],
      "metadata": {
        "id": "pjwbIaf9r-qg"
      }
    },
    {
      "cell_type": "code",
      "source": [
        "import re\n",
        "from html.parser import HTMLParser\n",
        "\n",
        "\n",
        "class MyHTMLParser(HTMLParser):\n",
        "    def __init__(self):\n",
        "        super().__init__()\n",
        "        self.getH = 0\n",
        "\n",
        "    def handle_starttag(self, tag, attrs):\n",
        "        # Check if the tag matches the format h1, h2, h3, etc.\n",
        "        match = re.match(r'h(\\d)', tag, re.I)\n",
        "        if match:\n",
        "            # Set the value of getH based on the matched group (heading number)\n",
        "            self.getH = int(match.group(1))\n",
        "\n",
        "    def handle_endtag(self, tag):\n",
        "        # Check if the tag matches the format h1, h2, h3, etc.\n",
        "        match = re.match(r'h(\\d)', tag, re.I)\n",
        "        if match:\n",
        "            # Reset the value of getH to 0 when the closing tag is encountered\n",
        "            self.getH = 0\n",
        "\n",
        "    def handle_data(self, data):\n",
        "        if self.getH > 0:\n",
        "            # Calculate the indentation level based on the heading number\n",
        "            tab = self.getH - 1\n",
        "            out = \"\\t\" * tab\n",
        "            # Print the heading text with the corresponding indentation\n",
        "            print(out + data)\n",
        "\n",
        "\n",
        "parser = MyHTMLParser()\n",
        "\n",
        "# Read the content from the 'w3c.html' file\n",
        "with open('w3c.html') as infile:\n",
        "    content = infile.read()\n",
        "\n",
        "# Feed the HTML content to the parser\n",
        "parser.feed(content)\n"
      ],
      "metadata": {
        "colab": {
          "base_uri": "https://localhost:8080/"
        },
        "id": "8GSd16CyreYF",
        "outputId": "0bf01fe4-eadf-42f9-ffd9-22590d6f9b64"
      },
      "execution_count": 13,
      "outputs": [
        {
          "output_type": "stream",
          "name": "stdout",
          "text": [
            "W3C Mission\n",
            "\tPrinciples\n"
          ]
        }
      ]
    },
    {
      "cell_type": "markdown",
      "source": [
        "## **Question 7**\n",
        "Implement recursive function webdir() that takes as input: a URL (as a string) and\n",
        "non-negative integers depth and indent. Your function should visit every web\n",
        "page reachable from the starting URL web page in depth clicks or less, and print\n",
        "each web page's URL. As shown below, indentation, specified by indent, should\n",
        "be used to indicate the depth of a URL.\n",
        "\n",
        "\n",
        "```\n",
        ">>>\n",
        "webdir('http://reed.cs.depaul.edu/lperkovic/csc242/test1.html'\n",
        ", 2, 0)\n",
        "http://reed.cs.depaul.edu/lperkovic/csc242/test1.html\n",
        " http://reed.cs.depaul.edu/lperkovic/csc242/test2.html\n",
        " http://reed.cs.depaul.edu/lperkovic/csc242/test4.html\n",
        " http://reed.cs.depaul.edu/lperkovic/csc242/test3.html\n",
        " http://reed.cs.depaul.edu/lperkovic/csc242/test4.html\n",
        "\n",
        "```"
      ],
      "metadata": {
        "id": "fg490RTN3ZbN"
      }
    },
    {
      "cell_type": "code",
      "source": [
        "from bs4 import BeautifulSoup, SoupStrainer\n",
        "import httplib2\n",
        "\n",
        "\n",
        "def getLinks(url):\n",
        "    res = []\n",
        "    http = httplib2.Http()\n",
        "    status, response = http.request(url)\n",
        "\n",
        "    for link in BeautifulSoup(response, parse_only=SoupStrainer('a'), features=\"html.parser\"):\n",
        "        if link.has_attr('href'):\n",
        "            if link['href'][:5] == \"http:\" or link['href'][:5] == \"https\":\n",
        "                res.append(link['href'])\n",
        "\n",
        "    return res\n",
        "\n",
        "def webdir(url, depth, indent):\n",
        "\n",
        "    print(indent*\" \" + url)\n",
        "\n",
        "    if depth == 0:\n",
        "        return\n",
        "\n",
        "    for i in getLinks(url):\n",
        "        webdir(i, depth-1, indent+1)\n",
        "\n",
        "webdir('http://reed.cs.depaul.edu/lperkovic/csc242/test1.html', 2, 0)"
      ],
      "metadata": {
        "colab": {
          "base_uri": "https://localhost:8080/"
        },
        "id": "HrwLAKXwuKef",
        "outputId": "a6250f74-9d07-48da-b295-c6bc6db24268"
      },
      "execution_count": 18,
      "outputs": [
        {
          "output_type": "stream",
          "name": "stdout",
          "text": [
            "http://reed.cs.depaul.edu/lperkovic/csc242/test1.html\n"
          ]
        }
      ]
    },
    {
      "cell_type": "markdown",
      "source": [
        "## **Question 8**\n",
        "Write SQL queries on the below database table that return:\n",
        "\n",
        "a) All the temperature data.\n",
        "\n",
        "b) All the cities, but without repetition.\n",
        "\n",
        "c) All the records for India.\n",
        "\n",
        "d) All the Fall records.\n",
        "\n",
        "e) The city, country, and season for which the average rainfall is between 200\n",
        "and 400 millimeters.\n",
        "\n",
        "f) The city and country for which the average Fall temperature is above 20\n",
        "degrees, in increasing temperature order.\n",
        "\n",
        "g) The total annual rainfall for Cairo.\n",
        "\n",
        "h) The total rainfall for each season.\n",
        "\n",
        "![table.png](data:image/png;base64,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)"
      ],
      "metadata": {
        "id": "c3p6pc6b9koL"
      }
    },
    {
      "cell_type": "markdown",
      "source": [
        "### **Ans.**\n",
        "Assuming the table name is 'cities_data' the following SQL Queries would be:\n",
        "\n",
        "a) All the temperature data:\n",
        "\n",
        "`SELECT Temperature FROM cities_data;`\n",
        "\n",
        "b) All the cities, but without repetition:\n",
        "\n",
        "`SELECT DISTINCT City FROM cities_data;`\n",
        "\n",
        "c) All the records for India:\n",
        "\n",
        "`SELECT * FROM cities_data WHERE Country = 'India';`\n",
        "\n",
        "d) All the Fall records:\n",
        "\n",
        "`SELECT * FROM cities_data WHERE Season = 'Fall';`\n",
        "\n",
        "e) The city, country, and season for which the average rainfall is between 200 and 400 millimeters:\n",
        "\n",
        "`SELECT City, Country, Season `\n",
        "`FROM cities_data `\n",
        "`WHERE Rainfall BETWEEN 200 AND 400;`\n",
        "\n",
        "\n",
        "\n",
        "\n",
        "f) The city and country for which the average Fall temperature is above 20 degrees, in increasing temperature order:\n",
        "\n",
        "`SELECT City, Country`\n",
        "`FROM cities_data `\n",
        "`WHERE Season = 'Fall' AND Temperature > 20`\n",
        "`ORDER BY Temperature ASC;`\n",
        "\n",
        "g) The total annual rainfall for Cairo:\n",
        "\n",
        "`SELECT SUM(Rainfall) AS TotalRainfall`\n",
        "`FROM cities_data `\n",
        "`WHERE City = 'Cairo';`\n",
        "\n",
        "h) The total rainfall for each season:\n",
        "\n",
        "`SELECT Season, SUM(Rainfall) AS TotalRainfall `\n",
        "`FROM cities_data `\n",
        "`GROUP BY Season;`"
      ],
      "metadata": {
        "id": "jaZe62M7_qFC"
      }
    },
    {
      "cell_type": "markdown",
      "source": [
        "## **Question 9**\n",
        "Suppose list words is defined as follows:\n",
        "\n",
        "```\n",
        ">>> words = ['The', 'quick', 'brown', 'fox', 'jumps', 'over',\n",
        "'the', 'lazy', 'dog']\n",
        "```\n",
        "\n",
        "\n",
        "Write list comprehension expressions that use list words and generate the following\n",
        "lists:\n",
        "\n",
        "a) `['THE', 'QUICK', 'BROWN', 'FOX', 'JUMPS', 'OVER', 'THE', `\n",
        "`'LAZY', 'DOG']`\n",
        "\n",
        "b) `['the', 'quick', 'brown', 'fox', 'jumps', 'over', 'the', `\n",
        "`'lazy', 'dog']`\n",
        "\n",
        "c) `[3, 5, 5, 3, 5, 4, 3, 4, 3] (the list of lengths of words in list `\n",
        "`words).`\n",
        "\n",
        "d) `[['THE', 'the', 3], ['QUICK', 'quick', 5], ['BROWN', `\n",
        "`'brown', 5], ['FOX', 'fox', 3], ['JUMPS', 'jumps', 5], `\n",
        "`['OVER', 'over', 4], ['THE', 'the', 3], ['LAZY', 'lazy', `\n",
        "`4], ['DOG', 'dog', 3]]` (the list containing a list for every word of list\n",
        "words, where each list contains the word in uppercase and lowercase and the\n",
        "length of the word.)\n",
        "\n",
        "e) `['The', 'quick', 'brown', 'fox', 'jumps', 'over', 'the', `\n",
        "`'lazy', 'dog'] ` (the list of words in list words containing 4 or more\n",
        "characters.)"
      ],
      "metadata": {
        "id": "74VHhEFBA5Oe"
      }
    },
    {
      "cell_type": "code",
      "source": [
        "words = ['The', 'quick', 'brown', 'fox', 'jumps', 'over', 'the', 'lazy', 'dog']\n",
        "\n",
        "# a) Uppercase words\n",
        "uppercase_words = [word.upper() for word in words]\n",
        "print(\"a) Uppercase words:\")\n",
        "print(uppercase_words)\n",
        "\n",
        "# b) Lowercase words\n",
        "lowercase_words = [word.lower() for word in words]\n",
        "print(\"\\nb) Lowercase words:\")\n",
        "print(lowercase_words)\n",
        "\n",
        "# c) Word lengths\n",
        "word_lengths = [len(word) for word in words]\n",
        "print(\"\\nc) Word lengths:\")\n",
        "print(word_lengths)\n",
        "\n",
        "# d) Word info\n",
        "word_info = [[word.upper(), word.lower(), len(word)] for word in words]\n",
        "print(\"\\nd) Word info:\")\n",
        "print(word_info)\n",
        "\n",
        "# e) Words with 4 or more characters\n",
        "words_with_4_or_more_chars = [word for word in words if len(word) >= 4]\n",
        "print(\"\\ne) Words with 4 or more characters:\")\n",
        "print(words_with_4_or_more_chars)\n"
      ],
      "metadata": {
        "colab": {
          "base_uri": "https://localhost:8080/"
        },
        "id": "ip4Q4s994gwG",
        "outputId": "0dabd2f2-a84a-454b-ea8a-cdfeb1989209"
      },
      "execution_count": 20,
      "outputs": [
        {
          "output_type": "stream",
          "name": "stdout",
          "text": [
            "a) Uppercase words:\n",
            "['THE', 'QUICK', 'BROWN', 'FOX', 'JUMPS', 'OVER', 'THE', 'LAZY', 'DOG']\n",
            "\n",
            "b) Lowercase words:\n",
            "['the', 'quick', 'brown', 'fox', 'jumps', 'over', 'the', 'lazy', 'dog']\n",
            "\n",
            "c) Word lengths:\n",
            "[3, 5, 5, 3, 5, 4, 3, 4, 3]\n",
            "\n",
            "d) Word info:\n",
            "[['THE', 'the', 3], ['QUICK', 'quick', 5], ['BROWN', 'brown', 5], ['FOX', 'fox', 3], ['JUMPS', 'jumps', 5], ['OVER', 'over', 4], ['THE', 'the', 3], ['LAZY', 'lazy', 4], ['DOG', 'dog', 3]]\n",
            "\n",
            "e) Words with 4 or more characters:\n",
            "['quick', 'brown', 'jumps', 'over', 'lazy']\n"
          ]
        }
      ]
    },
    {
      "cell_type": "code",
      "source": [],
      "metadata": {
        "id": "tMpYYGj3D5ra"
      },
      "execution_count": null,
      "outputs": []
    }
  ]
}